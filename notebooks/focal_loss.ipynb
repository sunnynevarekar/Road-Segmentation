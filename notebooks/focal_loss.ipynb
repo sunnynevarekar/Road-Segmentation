{
 "cells": [
  {
   "cell_type": "code",
   "execution_count": 1,
   "metadata": {},
   "outputs": [],
   "source": [
    "import torch\n",
    "import torch.nn as nn\n",
    "import torch.nn.functional as F"
   ]
  },
  {
   "cell_type": "code",
   "execution_count": 2,
   "metadata": {},
   "outputs": [],
   "source": [
    "def focal_loss(input: torch.Tensor, target: torch.Tensor, gamma: float =2.0, reduction: str='mean', eps:float=1e-6):\n",
    "    log_sigmoids = F.logsigmoid(input)\n",
    "    prob = torch.exp(log_sigmoids)\n",
    "    \n",
    "    pos_weight = torch.pow(1. - prob, gamma)\n",
    "    neg_weight = torch.pow(prob, gamma)\n",
    "    \n",
    "    focal = -(target*torch.log(prob+eps)*pos_weight+(1-target)*torch.log(1-prob+eps)*neg_weight)\n",
    "    \n",
    "    if reduction == 'None':\n",
    "        return focal\n",
    "    elif reduction == 'mean':\n",
    "        return torch.mean(focal)\n",
    "    elif reduction == 'sum':\n",
    "        return torch.sum(focal)\n",
    "    else:\n",
    "         raise NotImplementedError(\"Invalid reduction mode: {}\".format(reduction))"
   ]
  },
  {
   "cell_type": "code",
   "execution_count": 3,
   "metadata": {},
   "outputs": [],
   "source": [
    "class BinaryFocalLoss(nn.Module):\n",
    "    def __init__(self, gamma: float = 2.0, reduction: str = 'mean') -> None:\n",
    "        super(BinaryFocalLoss, self).__init__()\n",
    "        self.gamma = gamma\n",
    "        self.reduction = reduction\n",
    "        self.eps = 1e-10\n",
    "        self.__name__ = 'BinaryFocalLoss'\n",
    "\n",
    "    def forward(self, input: torch.Tensor, target: torch.Tensor) -> torch.Tensor:\n",
    "        return focal_loss(input, target, self.gamma, self.reduction, self.eps)"
   ]
  },
  {
   "cell_type": "code",
   "execution_count": 4,
   "metadata": {},
   "outputs": [],
   "source": [
    "bfloss = BinaryFocalLoss()\n",
    "bceloss = nn.BCEWithLogitsLoss()"
   ]
  },
  {
   "cell_type": "code",
   "execution_count": 5,
   "metadata": {},
   "outputs": [],
   "source": [
    "target = torch.randint(0, 2, size=(4, 1, 224, 224)).type(torch.float32)\n",
    "input = target*(-0.3)+(1-target)*(-0.8)"
   ]
  },
  {
   "cell_type": "code",
   "execution_count": 6,
   "metadata": {},
   "outputs": [
    {
     "output_type": "execute_result",
     "data": {
      "text/plain": "tensor([[[[1., 0., 1.,  ..., 0., 0., 1.],\n          [1., 1., 1.,  ..., 0., 0., 0.],\n          [0., 1., 1.,  ..., 1., 0., 1.],\n          ...,\n          [1., 1., 1.,  ..., 1., 0., 0.],\n          [0., 0., 0.,  ..., 0., 0., 1.],\n          [0., 0., 1.,  ..., 0., 0., 1.]]],\n\n\n        [[[0., 0., 1.,  ..., 1., 1., 0.],\n          [1., 1., 0.,  ..., 1., 1., 0.],\n          [0., 1., 0.,  ..., 0., 0., 1.],\n          ...,\n          [0., 1., 1.,  ..., 0., 0., 1.],\n          [0., 1., 1.,  ..., 0., 0., 0.],\n          [0., 1., 1.,  ..., 1., 0., 1.]]],\n\n\n        [[[1., 0., 0.,  ..., 1., 1., 1.],\n          [1., 0., 0.,  ..., 1., 0., 0.],\n          [1., 0., 0.,  ..., 0., 1., 1.],\n          ...,\n          [1., 1., 1.,  ..., 0., 1., 0.],\n          [1., 1., 1.,  ..., 1., 0., 1.],\n          [0., 0., 1.,  ..., 0., 1., 0.]]],\n\n\n        [[[1., 0., 0.,  ..., 1., 0., 0.],\n          [1., 1., 1.,  ..., 0., 1., 1.],\n          [1., 1., 1.,  ..., 0., 0., 0.],\n          ...,\n          [0., 0., 0.,  ..., 1., 1., 0.],\n          [0., 1., 1.,  ..., 0., 1., 1.],\n          [1., 0., 1.,  ..., 0., 1., 0.]]]])"
     },
     "metadata": {},
     "execution_count": 6
    }
   ],
   "source": [
    "target"
   ]
  },
  {
   "cell_type": "code",
   "execution_count": 7,
   "metadata": {},
   "outputs": [
    {
     "output_type": "execute_result",
     "data": {
      "text/plain": "tensor([[[[0.4256, 0.3100, 0.4256,  ..., 0.3100, 0.3100, 0.4256],\n          [0.4256, 0.4256, 0.4256,  ..., 0.3100, 0.3100, 0.3100],\n          [0.3100, 0.4256, 0.4256,  ..., 0.4256, 0.3100, 0.4256],\n          ...,\n          [0.4256, 0.4256, 0.4256,  ..., 0.4256, 0.3100, 0.3100],\n          [0.3100, 0.3100, 0.3100,  ..., 0.3100, 0.3100, 0.4256],\n          [0.3100, 0.3100, 0.4256,  ..., 0.3100, 0.3100, 0.4256]]],\n\n\n        [[[0.3100, 0.3100, 0.4256,  ..., 0.4256, 0.4256, 0.3100],\n          [0.4256, 0.4256, 0.3100,  ..., 0.4256, 0.4256, 0.3100],\n          [0.3100, 0.4256, 0.3100,  ..., 0.3100, 0.3100, 0.4256],\n          ...,\n          [0.3100, 0.4256, 0.4256,  ..., 0.3100, 0.3100, 0.4256],\n          [0.3100, 0.4256, 0.4256,  ..., 0.3100, 0.3100, 0.3100],\n          [0.3100, 0.4256, 0.4256,  ..., 0.4256, 0.3100, 0.4256]]],\n\n\n        [[[0.4256, 0.3100, 0.3100,  ..., 0.4256, 0.4256, 0.4256],\n          [0.4256, 0.3100, 0.3100,  ..., 0.4256, 0.3100, 0.3100],\n          [0.4256, 0.3100, 0.3100,  ..., 0.3100, 0.4256, 0.4256],\n          ...,\n          [0.4256, 0.4256, 0.4256,  ..., 0.3100, 0.4256, 0.3100],\n          [0.4256, 0.4256, 0.4256,  ..., 0.4256, 0.3100, 0.4256],\n          [0.3100, 0.3100, 0.4256,  ..., 0.3100, 0.4256, 0.3100]]],\n\n\n        [[[0.4256, 0.3100, 0.3100,  ..., 0.4256, 0.3100, 0.3100],\n          [0.4256, 0.4256, 0.4256,  ..., 0.3100, 0.4256, 0.4256],\n          [0.4256, 0.4256, 0.4256,  ..., 0.3100, 0.3100, 0.3100],\n          ...,\n          [0.3100, 0.3100, 0.3100,  ..., 0.4256, 0.4256, 0.3100],\n          [0.3100, 0.4256, 0.4256,  ..., 0.3100, 0.4256, 0.4256],\n          [0.4256, 0.3100, 0.4256,  ..., 0.3100, 0.4256, 0.3100]]]])"
     },
     "metadata": {},
     "execution_count": 7
    }
   ],
   "source": [
    "torch.sigmoid(input)"
   ]
  },
  {
   "cell_type": "code",
   "execution_count": 8,
   "metadata": {},
   "outputs": [
    {
     "output_type": "execute_result",
     "data": {
      "text/plain": "tensor(0.1585)"
     },
     "metadata": {},
     "execution_count": 8
    }
   ],
   "source": [
    "bfloss(input, target)"
   ]
  },
  {
   "cell_type": "code",
   "execution_count": 9,
   "metadata": {},
   "outputs": [
    {
     "output_type": "execute_result",
     "data": {
      "text/plain": "tensor(0.6122)"
     },
     "metadata": {},
     "execution_count": 9
    }
   ],
   "source": [
    "bceloss(input, target)"
   ]
  },
  {
   "cell_type": "code",
   "execution_count": 10,
   "metadata": {},
   "outputs": [],
   "source": [
    "input = target*(-0.3)+(1-target)*(-0.7)"
   ]
  },
  {
   "cell_type": "code",
   "execution_count": 11,
   "metadata": {},
   "outputs": [
    {
     "output_type": "execute_result",
     "data": {
      "text/plain": "tensor(0.1629)"
     },
     "metadata": {},
     "execution_count": 11
    }
   ],
   "source": [
    "bfloss(input, target)"
   ]
  },
  {
   "cell_type": "code",
   "execution_count": 12,
   "metadata": {},
   "outputs": [
    {
     "output_type": "execute_result",
     "data": {
      "text/plain": "tensor(0.6283)"
     },
     "metadata": {},
     "execution_count": 12
    }
   ],
   "source": [
    "bceloss(input, target)"
   ]
  },
  {
   "cell_type": "code",
   "execution_count": null,
   "metadata": {},
   "outputs": [],
   "source": []
  }
 ],
 "metadata": {
  "kernelspec": {
   "display_name": "Python 3",
   "language": "python",
   "name": "python3"
  },
  "language_info": {
   "codemirror_mode": {
    "name": "ipython",
    "version": 3
   },
   "file_extension": ".py",
   "mimetype": "text/x-python",
   "name": "python",
   "nbconvert_exporter": "python",
   "pygments_lexer": "ipython3",
   "version": "3.8.5-final"
  }
 },
 "nbformat": 4,
 "nbformat_minor": 4
}