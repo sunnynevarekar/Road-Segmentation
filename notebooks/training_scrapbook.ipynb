{
 "cells": [
  {
   "cell_type": "code",
   "execution_count": 1,
   "metadata": {},
   "outputs": [],
   "source": [
    "import sys\n",
    "sys.path.append('..')"
   ]
  },
  {
   "cell_type": "code",
   "execution_count": 2,
   "metadata": {},
   "outputs": [],
   "source": [
    "import os\n",
    "import numpy as np\n",
    "import torch\n",
    "import torch.nn as nn\n",
    "import albumentations as A\n",
    "from src.dataset import SegDataset\n",
    "from src.engine import fit, train_one_epoch, evaluate\n",
    "from src.callbacks import TrainMetricRecorder\n",
    "from src.losses import BinaryFocalLoss, FocalLoss, DiceLoss\n",
    "from unet import UNet"
   ]
  },
  {
   "cell_type": "code",
   "execution_count": 3,
   "metadata": {
    "tags": []
   },
   "outputs": [
    {
     "name": "stdout",
     "output_type": "stream",
     "text": [
      "Train samples: 804 Test samples: 13\n"
     ]
    }
   ],
   "source": [
    "#create datasets and dataloader\n",
    "\n",
    "train_img_dir = '../data/road_segmentation_ideal/training/input'\n",
    "train_mask_dir = '../data/road_segmentation_ideal/training/output'\n",
    "test_img_dir = '../data/road_segmentation_ideal/testing/input'\n",
    "test_mask_dir = '../data/road_segmentation_ideal/testing/output'\n",
    "train_ids = sorted([filename.split('.')[0] for filename in os.listdir(train_mask_dir) if filename.endswith('.png')])\n",
    "test_ids = sorted([filename.split('.')[0] for filename in os.listdir(test_mask_dir) if filename.endswith('.png')])\n",
    "\n",
    "print(f'Train samples: {len(train_ids)} Test samples: {len(test_ids)}')"
   ]
  },
  {
   "cell_type": "code",
   "execution_count": 4,
   "metadata": {},
   "outputs": [],
   "source": [
    "img_size=500\n",
    "test_size = 1500\n",
    "train_transforms = A.Compose([ A.RandomCrop(height=img_size, width=img_size, p=1.0, \n",
    "                               A.HorizontalFlip(p=0.5),\n",
    "                               A.VerticalFlip(p=0.5), \n",
    "                               A.RandomRotate90(p=0.5),\n",
    "                               A.Transpose(p=0.5)\n",
    "                           ])\n",
    "\n",
    "test_transforms = A.Resize(height=test_size, width=test_size, p=1)\n",
    "\n",
    "train_dataset = SegDataset(train_img_dir, train_mask_dir, train_ids, train_transforms)\n",
    "test_dataset = SegDataset(test_img_dir, test_mask_dir, test_ids, test_transforms)\n",
    "\n",
    "assert len(train_dataset) == len(train_ids)\n",
    "assert len(test_dataset) == len(test_ids)"
   ]
  },
  {
   "cell_type": "code",
   "execution_count": 5,
   "metadata": {},
   "outputs": [],
   "source": [
    "train_loader = torch.utils.data.DataLoader(train_dataset, batch_size=8, shuffle=True, pin_memory=True)\n",
    "test_loader = torch.utils.data.DataLoader(test_dataset, batch_size=1, shuffle=False, pin_memory=True)"
   ]
  },
  {
   "cell_type": "code",
   "execution_count": 6,
   "metadata": {},
   "outputs": [
    {
     "data": {
      "text/plain": [
       "(torch.Size([8, 3, 500, 500]), torch.Size([8, 1, 500, 500]))"
      ]
     },
     "execution_count": 6,
     "metadata": {},
     "output_type": "execute_result"
    }
   ],
   "source": [
    "imgs, masks = next(iter(train_loader))\n",
    "imgs.shape, masks.shape"
   ]
  },
  {
   "cell_type": "code",
   "execution_count": 7,
   "metadata": {},
   "outputs": [
    {
     "data": {
      "text/plain": [
       "<All keys matched successfully>"
      ]
     },
     "execution_count": 7,
     "metadata": {},
     "output_type": "execute_result"
    }
   ],
   "source": [
    "model = UNet(n_channels=3, n_classes=1)\n",
    "model.load_state_dict(torch.load('../model_weights/pretrained/unet_carvana_scale1_epoch5.pth'))"
   ]
  },
  {
   "cell_type": "code",
   "execution_count": 8,
   "metadata": {
    "tags": []
   },
   "outputs": [
    {
     "name": "stdout",
     "output_type": "stream",
     "text": [
      "Using device cuda\n"
     ]
    }
   ],
   "source": [
    "device = torch.device('cuda' if torch.cuda.is_available() else 'cpu')\n",
    "print(f'Using device {device}')"
   ]
  },
  {
   "cell_type": "code",
   "execution_count": 9,
   "metadata": {
    "tags": []
   },
   "outputs": [],
   "source": [
    "#move model to right device\n",
    "model.to(device)\n",
    "#define optimizer\n",
    "params = [p for p in model.parameters() if p.requires_grad]\n",
    "optimizer = torch.optim.Adam(params, lr=0.001)\n",
    "#criterion\n",
    "criterion = DiceLoss()\n",
    "\n",
    "#metric\n",
    "recorder = TrainMetricRecorder(['iou', 'accuracy', 'precision', 'recall'])"
   ]
  },
  {
   "cell_type": "code",
   "execution_count": 10,
   "metadata": {},
   "outputs": [
    {
     "name": "stderr",
     "output_type": "stream",
     "text": [
      "  0%|          | 0/101 [00:00<?, ?it/s]/home/sunny/miniconda3/envs/torch/lib/python3.8/site-packages/torch/nn/functional.py:1625: UserWarning: nn.functional.sigmoid is deprecated. Use torch.sigmoid instead.\n",
      "  warnings.warn(\"nn.functional.sigmoid is deprecated. Use torch.sigmoid instead.\")\n",
      "100%|██████████| 101/101 [02:02<00:00,  1.22s/it]\n",
      "100%|██████████| 13/13 [00:03<00:00,  3.57it/s]\n",
      "  0%|          | 0/101 [00:00<?, ?it/s]"
     ]
    },
    {
     "name": "stdout",
     "output_type": "stream",
     "text": [
      "\n",
      "Epoch 1: train_loss: 0.5937 val_loss: 0.5169 train_iou: 0.2637 val_iou: 0.3258 train_accuracy: 0.9173 val_accuracy: 0.9308 train_precision: 0.3571 val_precision: 0.5186 train_recall: 0.5275 val_recall: 0.4938 \n",
      "\n"
     ]
    },
    {
     "name": "stderr",
     "output_type": "stream",
     "text": [
      "100%|██████████| 101/101 [02:02<00:00,  1.21s/it]\n",
      "100%|██████████| 13/13 [00:03<00:00,  3.61it/s]\n",
      "  0%|          | 0/101 [00:00<?, ?it/s]"
     ]
    },
    {
     "name": "stdout",
     "output_type": "stream",
     "text": [
      "\n",
      "Epoch 2: train_loss: 0.5056 val_loss: 0.5620 train_iou: 0.3332 val_iou: 0.2905 train_accuracy: 0.9438 val_accuracy: 0.9393 train_precision: 0.4672 val_precision: 0.6339 train_recall: 0.5494 val_recall: 0.3699 \n",
      "\n"
     ]
    },
    {
     "name": "stderr",
     "output_type": "stream",
     "text": [
      "100%|██████████| 101/101 [02:02<00:00,  1.21s/it]\n",
      "100%|██████████| 13/13 [00:03<00:00,  3.65it/s]\n",
      "  0%|          | 0/101 [00:00<?, ?it/s]"
     ]
    },
    {
     "name": "stdout",
     "output_type": "stream",
     "text": [
      "\n",
      "Epoch 3: train_loss: 0.4513 val_loss: 0.4648 train_iou: 0.3826 val_iou: 0.3708 train_accuracy: 0.9516 val_accuracy: 0.9137 train_precision: 0.5325 val_precision: 0.4242 train_recall: 0.5821 val_recall: 0.7498 \n",
      "\n"
     ]
    },
    {
     "name": "stderr",
     "output_type": "stream",
     "text": [
      "100%|██████████| 101/101 [02:01<00:00,  1.21s/it]\n",
      "100%|██████████| 13/13 [00:03<00:00,  3.61it/s]\n",
      "  0%|          | 0/101 [00:00<?, ?it/s]"
     ]
    },
    {
     "name": "stdout",
     "output_type": "stream",
     "text": [
      "\n",
      "Epoch 4: train_loss: 0.4378 val_loss: 0.3839 train_iou: 0.3955 val_iou: 0.4509 train_accuracy: 0.9537 val_accuracy: 0.9481 train_precision: 0.5521 val_precision: 0.6407 train_recall: 0.5914 val_recall: 0.6076 \n",
      "\n"
     ]
    },
    {
     "name": "stderr",
     "output_type": "stream",
     "text": [
      "100%|██████████| 101/101 [02:02<00:00,  1.21s/it]\n",
      "100%|██████████| 13/13 [00:03<00:00,  3.60it/s]\n",
      "  0%|          | 0/101 [00:00<?, ?it/s]"
     ]
    },
    {
     "name": "stdout",
     "output_type": "stream",
     "text": [
      "\n",
      "Epoch 5: train_loss: 0.3999 val_loss: 0.3713 train_iou: 0.4328 val_iou: 0.4637 train_accuracy: 0.9590 val_accuracy: 0.9492 train_precision: 0.6016 val_precision: 0.6472 train_recall: 0.6169 val_recall: 0.6291 \n",
      "\n"
     ]
    },
    {
     "name": "stderr",
     "output_type": "stream",
     "text": [
      "100%|██████████| 101/101 [02:02<00:00,  1.21s/it]\n",
      "100%|██████████| 13/13 [00:03<00:00,  3.63it/s]\n",
      "  0%|          | 0/101 [00:00<?, ?it/s]"
     ]
    },
    {
     "name": "stdout",
     "output_type": "stream",
     "text": [
      "\n",
      "Epoch 6: train_loss: 0.3762 val_loss: 0.3627 train_iou: 0.4573 val_iou: 0.4720 train_accuracy: 0.9606 val_accuracy: 0.9504 train_precision: 0.6275 val_precision: 0.6545 train_recall: 0.6367 val_recall: 0.6280 \n",
      "\n"
     ]
    },
    {
     "name": "stderr",
     "output_type": "stream",
     "text": [
      "100%|██████████| 101/101 [02:02<00:00,  1.21s/it]\n",
      "100%|██████████| 13/13 [00:03<00:00,  3.60it/s]\n",
      "  0%|          | 0/101 [00:00<?, ?it/s]"
     ]
    },
    {
     "name": "stdout",
     "output_type": "stream",
     "text": [
      "\n",
      "Epoch 7: train_loss: 0.3449 val_loss: 0.3369 train_iou: 0.4910 val_iou: 0.4996 train_accuracy: 0.9638 val_accuracy: 0.9534 train_precision: 0.6573 val_precision: 0.6689 train_recall: 0.6671 val_recall: 0.6638 \n",
      "\n"
     ]
    },
    {
     "name": "stderr",
     "output_type": "stream",
     "text": [
      "100%|██████████| 101/101 [02:02<00:00,  1.21s/it]\n",
      "100%|██████████| 13/13 [00:03<00:00,  3.56it/s]\n",
      "  0%|          | 0/101 [00:00<?, ?it/s]"
     ]
    },
    {
     "name": "stdout",
     "output_type": "stream",
     "text": [
      "\n",
      "Epoch 8: train_loss: 0.3273 val_loss: 0.4369 train_iou: 0.5094 val_iou: 0.3983 train_accuracy: 0.9662 val_accuracy: 0.9511 train_precision: 0.6829 val_precision: 0.7424 train_recall: 0.6713 val_recall: 0.4691 \n",
      "\n"
     ]
    },
    {
     "name": "stderr",
     "output_type": "stream",
     "text": [
      "100%|██████████| 101/101 [02:02<00:00,  1.21s/it]\n",
      "100%|██████████| 13/13 [00:03<00:00,  3.61it/s]\n",
      "  0%|          | 0/101 [00:00<?, ?it/s]"
     ]
    },
    {
     "name": "stdout",
     "output_type": "stream",
     "text": [
      "\n",
      "Epoch 9: train_loss: 0.3267 val_loss: 0.3990 train_iou: 0.5106 val_iou: 0.4381 train_accuracy: 0.9666 val_accuracy: 0.9557 train_precision: 0.6817 val_precision: 0.8017 train_recall: 0.6767 val_recall: 0.4989 \n",
      "\n"
     ]
    },
    {
     "name": "stderr",
     "output_type": "stream",
     "text": [
      "100%|██████████| 101/101 [02:01<00:00,  1.21s/it]\n",
      "100%|██████████| 13/13 [00:03<00:00,  3.63it/s]"
     ]
    },
    {
     "name": "stdout",
     "output_type": "stream",
     "text": [
      "\n",
      "Epoch 10: train_loss: 0.3166 val_loss: 0.3558 train_iou: 0.5223 val_iou: 0.4792 train_accuracy: 0.9682 val_accuracy: 0.9550 train_precision: 0.6946 val_precision: 0.7284 train_recall: 0.6824 val_recall: 0.5873 \n",
      "\n"
     ]
    },
    {
     "name": "stderr",
     "output_type": "stream",
     "text": [
      "\n"
     ]
    }
   ],
   "source": [
    "fit(model, train_loader, test_loader, optimizer, criterion, 10, device, recorder)"
   ]
  }
 ],
 "metadata": {
  "kernelspec": {
   "display_name": "Python 3",
   "language": "python",
   "name": "python3"
  },
  "language_info": {
   "codemirror_mode": {
    "name": "ipython",
    "version": 3
   },
   "file_extension": ".py",
   "mimetype": "text/x-python",
   "name": "python",
   "nbconvert_exporter": "python",
   "pygments_lexer": "ipython3",
   "version": "3.8.5"
  }
 },
 "nbformat": 4,
 "nbformat_minor": 4
}
